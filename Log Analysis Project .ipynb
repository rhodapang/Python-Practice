{
 "cells": [
  {
   "cell_type": "code",
   "execution_count": 1,
   "metadata": {},
   "outputs": [
    {
     "name": "stderr",
     "output_type": "stream",
     "text": [
      "C:\\Users\\rhoda\\Anaconda3\\lib\\importlib\\_bootstrap.py:219: RuntimeWarning: numpy.ufunc size changed, may indicate binary incompatibility. Expected 192 from C header, got 216 from PyObject\n",
      "  return f(*args, **kwds)\n",
      "C:\\Users\\rhoda\\Anaconda3\\lib\\importlib\\_bootstrap.py:219: RuntimeWarning: numpy.ufunc size changed, may indicate binary incompatibility. Expected 192 from C header, got 216 from PyObject\n",
      "  return f(*args, **kwds)\n",
      "C:\\Users\\rhoda\\Anaconda3\\lib\\importlib\\_bootstrap.py:219: RuntimeWarning: numpy.ufunc size changed, may indicate binary incompatibility. Expected 192 from C header, got 216 from PyObject\n",
      "  return f(*args, **kwds)\n",
      "C:\\Users\\rhoda\\Anaconda3\\lib\\importlib\\_bootstrap.py:219: RuntimeWarning: numpy.ufunc size changed, may indicate binary incompatibility. Expected 192 from C header, got 216 from PyObject\n",
      "  return f(*args, **kwds)\n"
     ]
    }
   ],
   "source": [
    "import pandas as pd \n",
    "import numpy as np \n",
    "import matplotlib.pyplot as plt\n",
    "import seaborn as sns "
   ]
  },
  {
   "cell_type": "code",
   "execution_count": 6,
   "metadata": {},
   "outputs": [],
   "source": [
    "df = pd.read_excel(r\"C:/Users/rhoda/Desktop/Log.xlsx\",sheet_name='LOG')"
   ]
  },
  {
   "cell_type": "code",
   "execution_count": 7,
   "metadata": {},
   "outputs": [
    {
     "data": {
      "text/html": [
       "<div>\n",
       "<style scoped>\n",
       "    .dataframe tbody tr th:only-of-type {\n",
       "        vertical-align: middle;\n",
       "    }\n",
       "\n",
       "    .dataframe tbody tr th {\n",
       "        vertical-align: top;\n",
       "    }\n",
       "\n",
       "    .dataframe thead th {\n",
       "        text-align: right;\n",
       "    }\n",
       "</style>\n",
       "<table border=\"1\" class=\"dataframe\">\n",
       "  <thead>\n",
       "    <tr style=\"text-align: right;\">\n",
       "      <th></th>\n",
       "      <th>Admin</th>\n",
       "      <th>Ver.</th>\n",
       "      <th>Partial</th>\n",
       "      <th>Date</th>\n",
       "      <th>INT/US</th>\n",
       "      <th>Order Type</th>\n",
       "      <th>Order Qty</th>\n",
       "    </tr>\n",
       "  </thead>\n",
       "  <tbody>\n",
       "    <tr>\n",
       "      <th>0</th>\n",
       "      <td>demon</td>\n",
       "      <td>Ver.05.17</td>\n",
       "      <td>NaN</td>\n",
       "      <td>2019-05-17 11:13:13</td>\n",
       "      <td>INT ORDERS</td>\n",
       "      <td>Bimake</td>\n",
       "      <td>1.0</td>\n",
       "    </tr>\n",
       "    <tr>\n",
       "      <th>1</th>\n",
       "      <td>demon</td>\n",
       "      <td>Ver.05.17</td>\n",
       "      <td>NaN</td>\n",
       "      <td>2019-05-17 13:03:09</td>\n",
       "      <td>US ORDERS</td>\n",
       "      <td>Selleck</td>\n",
       "      <td>17.0</td>\n",
       "    </tr>\n",
       "    <tr>\n",
       "      <th>2</th>\n",
       "      <td>demon</td>\n",
       "      <td>Ver.05.17</td>\n",
       "      <td>NaN</td>\n",
       "      <td>2019-05-17 15:23:36</td>\n",
       "      <td>US ORDERS</td>\n",
       "      <td>Selleck</td>\n",
       "      <td>39.0</td>\n",
       "    </tr>\n",
       "    <tr>\n",
       "      <th>3</th>\n",
       "      <td>demon</td>\n",
       "      <td>Ver.05.17</td>\n",
       "      <td>NaN</td>\n",
       "      <td>2019-05-17 15:30:52</td>\n",
       "      <td>INT ORDERS</td>\n",
       "      <td>Selleck</td>\n",
       "      <td>1.0</td>\n",
       "    </tr>\n",
       "    <tr>\n",
       "      <th>4</th>\n",
       "      <td>demon</td>\n",
       "      <td>Ver.05.17</td>\n",
       "      <td>NaN</td>\n",
       "      <td>2019-05-20 09:38:36</td>\n",
       "      <td>US ORDERS</td>\n",
       "      <td>Selleck</td>\n",
       "      <td>32.0</td>\n",
       "    </tr>\n",
       "  </tbody>\n",
       "</table>\n",
       "</div>"
      ],
      "text/plain": [
       "   Admin       Ver.  Partial                Date      INT/US Order Type  \\\n",
       "0  demon  Ver.05.17      NaN 2019-05-17 11:13:13  INT ORDERS     Bimake   \n",
       "1  demon  Ver.05.17      NaN 2019-05-17 13:03:09   US ORDERS    Selleck   \n",
       "2  demon  Ver.05.17      NaN 2019-05-17 15:23:36   US ORDERS    Selleck   \n",
       "3  demon  Ver.05.17      NaN 2019-05-17 15:30:52  INT ORDERS    Selleck   \n",
       "4  demon  Ver.05.17      NaN 2019-05-20 09:38:36   US ORDERS    Selleck   \n",
       "\n",
       "   Order Qty  \n",
       "0        1.0  \n",
       "1       17.0  \n",
       "2       39.0  \n",
       "3        1.0  \n",
       "4       32.0  "
      ]
     },
     "execution_count": 7,
     "metadata": {},
     "output_type": "execute_result"
    }
   ],
   "source": [
    "df.head()"
   ]
  },
  {
   "cell_type": "code",
   "execution_count": 5,
   "metadata": {},
   "outputs": [
    {
     "data": {
      "text/plain": [
       "(5388, 8)"
      ]
     },
     "execution_count": 5,
     "metadata": {},
     "output_type": "execute_result"
    }
   ],
   "source": [
    "df.shape"
   ]
  },
  {
   "cell_type": "code",
   "execution_count": null,
   "metadata": {},
   "outputs": [],
   "source": []
  }
 ],
 "metadata": {
  "kernelspec": {
   "display_name": "Python 3",
   "language": "python",
   "name": "python3"
  },
  "language_info": {
   "codemirror_mode": {
    "name": "ipython",
    "version": 3
   },
   "file_extension": ".py",
   "mimetype": "text/x-python",
   "name": "python",
   "nbconvert_exporter": "python",
   "pygments_lexer": "ipython3",
   "version": "3.7.3"
  },
  "toc": {
   "base_numbering": 1,
   "nav_menu": {},
   "number_sections": true,
   "sideBar": true,
   "skip_h1_title": false,
   "title_cell": "Table of Contents",
   "title_sidebar": "Contents",
   "toc_cell": false,
   "toc_position": {},
   "toc_section_display": true,
   "toc_window_display": false
  }
 },
 "nbformat": 4,
 "nbformat_minor": 4
}
